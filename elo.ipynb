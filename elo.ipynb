{
 "metadata": {
  "name": "",
  "signature": "sha256:05f5b5a9c3bab277921924e273c20c0be5c704d9ede9f662ec2692b94d787cf7"
 },
 "nbformat": 3,
 "nbformat_minor": 0,
 "worksheets": [
  {
   "cells": [
    {
     "cell_type": "code",
     "collapsed": false,
     "input": [
      "# Import Statements\n",
      "import pandas as pd\n",
      "import numpy as np\n",
      "import os\n",
      "import scipy as sp\n",
      "import re\n",
      "import matplotlib.pyplot as plt\n",
      "from sklearn import linear_model, datasets\n",
      "\n",
      "# Magic Function to show plots in ipython\n",
      "%matplotlib inline"
     ],
     "language": "python",
     "metadata": {},
     "outputs": [],
     "prompt_number": 189
    },
    {
     "cell_type": "code",
     "collapsed": false,
     "input": [
      "# Merges data from data.pgn and stockfish.csv into base_data.csv\n",
      "\n",
      "event_list = [None] * 50000\n",
      "result_list = [None] * 50000\n",
      "WhiteElo_list = [None] * 50000\n",
      "BlackElo_list = [None] * 50000\n",
      "\n",
      "with open(\"data.pgn\") as f:\n",
      "    for line in f:\n",
      "        if (line.startswith('[Event')):\n",
      "            gamenum = int(line.split('\"')[1])\n",
      "            event_list[gamenum-1] = gamenum\n",
      "        if (line.startswith('[Result')):\n",
      "            result_list[gamenum-1] = line.split('\"')[1]\n",
      "        if (line.startswith('[WhiteElo')):\n",
      "            WhiteElo_list[gamenum-1] = line.split('\"')[1]\n",
      "        if (line.startswith('[BlackElo')):\n",
      "            BlackElo_list[gamenum-1] = line.split('\"')[1]\n",
      "            \n",
      "df_game = pd.DataFrame(list(zip(event_list, result_list, WhiteElo_list, BlackElo_list)), columns=[\"Event\", \"Result\", \"WhiteElo\", \"BlackElo\"])\n",
      "df_stockfish = pd.read_csv(\"stockfish_trunc_null.csv\")\n",
      "df = df_game.merge(df_stockfish)\n",
      "df.to_csv(\"base_data_v2.csv\", index=False)\n",
      "\n",
      "### Translated data into base_data.csv"
     ],
     "language": "python",
     "metadata": {},
     "outputs": [],
     "prompt_number": 133
    },
    {
     "cell_type": "code",
     "collapsed": false,
     "input": [
      "# Creates the data frame from base_data.csv\n",
      "# Reformats \"Result\" column into \"White Wins\" and \"Black Wins\". Both columns will have 1 if game was a tie\n",
      "\n",
      "\n",
      "df = pd.read_csv(\"base_data_v2.csv\", index_col=False)\n",
      "zeros = pd.DataFrame(columns = [\"White Wins\", \"Black Wins\"])\n",
      "df = df.append(zeros)\n",
      "columns = df.columns.tolist()\n",
      "columns = [columns[i] for i in [2, 1, -1, 4, 5, 0, 3]]\n",
      "df = df[columns]\n",
      "\n",
      "for i,x in enumerate(df['Result']):\n",
      "    if (x == \"1/2-1/2\"):\n",
      "        df['White Wins'][i] = 1\n",
      "        df['Black Wins'][i] = 1\n",
      "    elif (x == \"1-0\"):\n",
      "        df['White Wins'][i] = 1\n",
      "    else:\n",
      "        df['Black Wins'][i] = 1\n",
      "df.update(df[[\"White Wins\", \"Black Wins\"]].fillna(0, inplace=False), overwrite=False)\n",
      "df = df.drop(\"Result\", axis=1)\n",
      "for i,x in enumerate(df[\"MoveScores\"]):\n",
      "    df[\"MoveScores\"][i] = np.array([int(j) for j in x.split(\" \") if j != ''])\n",
      "df.to_csv(\"data_trunc_null.csv\", index=False)"
     ],
     "language": "python",
     "metadata": {},
     "outputs": [],
     "prompt_number": 172
    },
    {
     "cell_type": "code",
     "collapsed": false,
     "input": [
      "# Add the White Avg and Black Avg, White stddev and Black stddev columns\n",
      "df = df.append(pd.DataFrame(columns = [\"White Avg\", \"Black Avg\", \"White Std Dev\", \"Black Std Dev\"]))\n",
      "\n",
      "# rearrange columns\n",
      "df = df[[\"Event\", \"WhiteElo\", \"BlackElo\", \"White Wins\", \"Black Wins\", \"MoveScores\", \"White Avg\", \"Black Avg\", \"White Std Dev\", \"Black Std Dev\"]]\n",
      "\n",
      "for i,x in enumerate(df[\"MoveScores\"]):\n",
      "    white_moves = x[::2]\n",
      "    black_moves = x[1::2]\n",
      "    # Calculate White Deltas\n",
      "    if len(black_moves) < len(white_moves):\n",
      "        black_moves = np.insert(black_moves,0,0)\n",
      "    else:\n",
      "        black_moves = np.insert(black_moves,0,0)\n",
      "        white_moves = np.append(white_moves, black_moves[-1])\n",
      "    df[\"White Avg\"][i] = np.mean(np.subtract(white_moves, black_moves))\n",
      "    df[\"White Std Dev\"][i] = np.std(np.subtract(white_moves, black_moves))\n",
      "    \n",
      "    #Calculate Black Deltas\n",
      "    white_moves = x[::2]\n",
      "    if len(x) % 2 == 0:\n",
      "        black_moves = x[1::2]\n",
      "    else:\n",
      "        black_moves = np.append(x[1::2], white_moves[-1])\n",
      "    df[\"Black Avg\"][i] = - np.mean(black_moves - white_moves)\n",
      "    df[\"Black Std Dev\"][i] = np.std(black_moves - white_moves)\n",
      "    \n",
      "# Save Dataframe\n",
      "df.to_csv(\"data_trunc_null.csv\", index=False)\n",
      "\n",
      "    \n",
      "\n",
      "\n",
      "        \n",
      "    \n",
      "    "
     ],
     "language": "python",
     "metadata": {},
     "outputs": [
      {
       "output_type": "stream",
       "stream": "stderr",
       "text": [
        "/Users/mliou/anaconda/lib/python3.4/site-packages/numpy/core/_methods.py:83: RuntimeWarning: Degrees of freedom <= 0 for slice\n",
        "  warnings.warn(\"Degrees of freedom <= 0 for slice\", RuntimeWarning)\n"
       ]
      }
     ],
     "prompt_number": 174
    },
    {
     "cell_type": "code",
     "collapsed": false,
     "input": [
      "df = pd.read_csv(\"data_trunc_null.csv\", index_col=False)\n",
      "col = df[\"White Avg\"]\n",
      "col[np.abs(col) > 50] = np.sign(col) * 50\n",
      "\n",
      "scatter(df.head(20)[\"White Avg\"], df.head(20)[\"WhiteElo\"])\n",
      "xlim(-100,100)\n",
      "\n",
      "clf = linear_model.LinearRegression()\n",
      "elo_test_X = df.head(20)[\"White Avg\"][:,np.newaxis]\n",
      "elo_test_y = df.head(20)[\"WhiteElo\"]\n",
      "clf.fit(elo_test_X, elo_test_y)\n",
      "print(\"Coefficients:{}\".format(clf.coef_))\n",
      "print(\"Mean Sq. Error: {}\".format(np.mean(elo_test_y - clf.predict(elo_test_X) ** 2)))\n",
      "plot(elo_test_X, clf.predict(elo_test_X))\n",
      "ylim(0, 3000)\n"
     ],
     "language": "python",
     "metadata": {},
     "outputs": [
      {
       "output_type": "stream",
       "stream": "stdout",
       "text": [
        "Coefficients:[ 1.02147763]\n",
        "Mean Sq. Error: -4943591.967209937\n"
       ]
      },
      {
       "metadata": {},
       "output_type": "pyout",
       "prompt_number": 329,
       "text": [
        "(0, 3000)"
       ]
      },
      {
       "metadata": {},
       "output_type": "display_data",
       "png": "[encoded data removed]",
       "text": [
        "<matplotlib.figure.Figure at 0x12f9bbf98>"
       ]
      }
     ],
     "prompt_number": 329
    }
   ],
   "metadata": {}
  }
 ]
}