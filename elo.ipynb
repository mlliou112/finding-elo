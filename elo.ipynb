{
 "metadata": {
  "name": "",
  "signature": "sha256:4debab12d300e2b34d01da69f3d0b2e1a4cf7de8f096f7fa1feab30ac016f576"
 },
 "nbformat": 3,
 "nbformat_minor": 0,
 "worksheets": [
  {
   "cells": [
    {
     "cell_type": "code",
     "collapsed": false,
     "input": [
      "import pandas as pd\n",
      "import numpy as np\n",
      "import os\n",
      "import scipy as sp\n",
      "import re"
     ],
     "language": "python",
     "metadata": {},
     "outputs": [],
     "prompt_number": 2
    },
    {
     "cell_type": "code",
     "collapsed": false,
     "input": [
      "event_list = [None] * 50000\n",
      "result_list = [None] * 50000\n",
      "WhiteElo_list = [None] * 50000\n",
      "BlackElo_list = [None] * 50000\n",
      "\n",
      "with open(\"data.pgn\") as f:\n",
      "    for line in f:\n",
      "        if (line.startswith('[Event')):\n",
      "            gamenum = int(line.split('\"')[1])\n",
      "            event_list[gamenum-1] = gamenum\n",
      "        if (line.startswith('[Result')):\n",
      "            result_list[gamenum-1] = line.split('\"')[1]\n",
      "        if (line.startswith('[WhiteElo')):\n",
      "            WhiteElo_list[gamenum-1] = line.split('\"')[1]\n",
      "        if (line.startswith('[BlackElo')):\n",
      "            BlackElo_list[gamenum-1] = line.split('\"')[1]\n",
      "            \n",
      "df_game = pd.DataFrame(list(zip(event_list, result_list, WhiteElo_list, BlackElo_list)), columns=[\"Event\", \"Result\", \"WhiteElo\", \"BlackElo\"])\n",
      "df_stockfish = pd.read_csv(\"stockfish.csv\")\n",
      "df = df_game.merge(df_stockfish)\n",
      "df.to_csv(\"base_data.csv\", index=False)\n",
      "\n",
      "### Translated data into base_data.csv"
     ],
     "language": "python",
     "metadata": {},
     "outputs": [],
     "prompt_number": 5
    },
    {
     "cell_type": "code",
     "collapsed": false,
     "input": [
      "df = pd.read_csv(\"base_data.csv\", index_col=False)\n",
      "df[\"Result\"]"
     ],
     "language": "python",
     "metadata": {},
     "outputs": [
      {
       "metadata": {},
       "output_type": "pyout",
       "prompt_number": 20,
       "text": [
        "0     1/2-1/2\n",
        "1     1/2-1/2\n",
        "2         0-1\n",
        "3         1-0\n",
        "4         1-0\n",
        "5     1/2-1/2\n",
        "6         1-0\n",
        "7     1/2-1/2\n",
        "8         1-0\n",
        "9         1-0\n",
        "10        1-0\n",
        "11        0-1\n",
        "12        0-1\n",
        "13        1-0\n",
        "14    1/2-1/2\n",
        "...\n",
        "49985        0-1\n",
        "49986    1/2-1/2\n",
        "49987        0-1\n",
        "49988        1-0\n",
        "49989        1-0\n",
        "49990        1-0\n",
        "49991        1-0\n",
        "49992    1/2-1/2\n",
        "49993        0-1\n",
        "49994    1/2-1/2\n",
        "49995        1-0\n",
        "49996        1-0\n",
        "49997        1-0\n",
        "49998        1-0\n",
        "49999    1/2-1/2\n",
        "Name: Result, Length: 50000, dtype: object"
       ]
      }
     ],
     "prompt_number": 20
    }
   ],
   "metadata": {}
  }
 ]
}